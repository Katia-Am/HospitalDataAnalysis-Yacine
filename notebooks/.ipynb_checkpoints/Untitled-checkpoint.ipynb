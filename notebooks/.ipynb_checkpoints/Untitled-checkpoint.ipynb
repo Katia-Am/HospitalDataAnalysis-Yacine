{
 "cells": [
  {
   "cell_type": "code",
   "execution_count": null,
   "id": "443d7f6b-02de-42e6-99ee-80c05f2b4cb8",
   "metadata": {},
   "outputs": [],
   "source": [
    "patients_analysis.ipynb"
   ]
  }
 ],
 "metadata": {
  "kernelspec": {
   "display_name": "Python 3 (ipykernel)",
   "language": "python",
   "name": "python3"
  },
  "language_info": {
   "codemirror_mode": {
    "name": "ipython",
    "version": 3
   },
   "file_extension": ".py",
   "mimetype": "text/x-python",
   "name": "python",
   "nbconvert_exporter": "python",
   "pygments_lexer": "ipython3",
   "version": "3.13.5"
  }
 },
 "nbformat": 4,
 "nbformat_minor": 5
}
